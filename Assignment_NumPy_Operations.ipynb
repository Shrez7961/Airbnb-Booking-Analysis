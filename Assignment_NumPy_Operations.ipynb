{
  "nbformat": 4,
  "nbformat_minor": 0,
  "metadata": {
    "colab": {
      "name": " Assignment - NumPy Operations.ipynb",
      "provenance": [],
      "collapsed_sections": [],
      "include_colab_link": true
    },
    "kernelspec": {
      "name": "python3",
      "display_name": "Python 3"
    }
  },
  "cells": [
    {
      "cell_type": "markdown",
      "metadata": {
        "id": "view-in-github",
        "colab_type": "text"
      },
      "source": [
        "<a href=\"https://colab.research.google.com/github/Shrez7961/Airbnb-Booking-Analysis/blob/main/Assignment_NumPy_Operations.ipynb\" target=\"_parent\"><img src=\"https://colab.research.google.com/assets/colab-badge.svg\" alt=\"Open In Colab\"/></a>"
      ]
    },
    {
      "cell_type": "markdown",
      "metadata": {
        "id": "MKXTc2Tas23T"
      },
      "source": [
        "# <u> Use only those concepts which have been taught till now </u>"
      ]
    },
    {
      "cell_type": "code",
      "metadata": {
        "id": "0V3Xtuh9siNn"
      },
      "source": [
        "import numpy as np"
      ],
      "execution_count": 2,
      "outputs": []
    },
    {
      "cell_type": "markdown",
      "metadata": {
        "id": "Ase3qjp9cJUC"
      },
      "source": [
        "# <u>**Problem 1**</u>\n",
        "\n",
        "### What is the average value of the first 5 rows of the third and fourth columns?\n",
        "\n"
      ]
    },
    {
      "cell_type": "code",
      "metadata": {
        "id": "xj0SaK7smcPu",
        "outputId": "b4564461-54da-44d8-fe54-7c26980af6cb",
        "colab": {
          "base_uri": "https://localhost:8080/"
        }
      },
      "source": [
        "np.random.seed(21) # This guarantees the code will generate the same set of random numbers whenever executed\n",
        "random_integers = np.random.randint(1,high=500000, size=(20, 5))\n",
        "random_integers"
      ],
      "execution_count": 3,
      "outputs": [
        {
          "output_type": "execute_result",
          "data": {
            "text/plain": [
              "array([[ 80842, 333008, 202553, 140037,  81969],\n",
              "       [ 63857,  42105, 261540, 481981, 176739],\n",
              "       [489984, 326386, 110795, 394863,  25024],\n",
              "       [ 38317,  49982, 408830, 485118,  16119],\n",
              "       [407675, 231729, 265455, 109413, 103399],\n",
              "       [174677, 343356, 301717, 224120, 401101],\n",
              "       [140473, 254634, 112262,  25063, 108262],\n",
              "       [375059, 406983, 208947, 115641, 296685],\n",
              "       [444899, 129585, 171318, 313094, 425041],\n",
              "       [188411, 335140, 141681,  59641, 211420],\n",
              "       [287650,   8973, 477425, 382803, 465168],\n",
              "       [  3975,  32213, 160603, 275485, 388234],\n",
              "       [246225,  56174, 244097,   9350, 496966],\n",
              "       [225516, 273338,  73335, 283013, 212813],\n",
              "       [ 38175, 282399, 318413, 337639, 379802],\n",
              "       [198049, 101115, 419547, 260219, 325793],\n",
              "       [148593, 425024, 348570, 117968, 107007],\n",
              "       [ 52547, 180346, 178760, 305186, 262153],\n",
              "       [ 11835, 449971, 494184, 472031, 353049],\n",
              "       [476442,  35455, 191553, 384154,  29917]])"
            ]
          },
          "metadata": {},
          "execution_count": 3
        }
      ]
    },
    {
      "cell_type": "code",
      "metadata": {
        "id": "N1hhYCZw3V1c",
        "outputId": "516f6040-92a0-4184-c766-1532731a7ad9",
        "colab": {
          "base_uri": "https://localhost:8080/"
        }
      },
      "source": [
        "# Your code here\n",
        "slice_array = random_integers[:5,3:]\n",
        "slice_array\n"
      ],
      "execution_count": 4,
      "outputs": [
        {
          "output_type": "execute_result",
          "data": {
            "text/plain": [
              "array([[140037,  81969],\n",
              "       [481981, 176739],\n",
              "       [394863,  25024],\n",
              "       [485118,  16119],\n",
              "       [109413, 103399]])"
            ]
          },
          "metadata": {},
          "execution_count": 4
        }
      ]
    },
    {
      "cell_type": "code",
      "source": [
        "#Average of individual list in slice\n",
        "for i in range(5):\n",
        "  avg =slice_array[i].sum()/slice_array[i].size\n",
        "  print(avg)\n"
      ],
      "metadata": {
        "id": "yl6BEmMOl29V",
        "outputId": "8dcf016c-26b4-4475-d662-c5bc4b518d32",
        "colab": {
          "base_uri": "https://localhost:8080/"
        }
      },
      "execution_count": 5,
      "outputs": [
        {
          "output_type": "stream",
          "name": "stdout",
          "text": [
            "111003.0\n",
            "329360.0\n",
            "209943.5\n",
            "250618.5\n",
            "106406.0\n"
          ]
        }
      ]
    },
    {
      "cell_type": "code",
      "source": [
        "#Average of total slice\n",
        "avrg=slice_array.sum()/slice_array.size\n",
        "avrg"
      ],
      "metadata": {
        "id": "INLtSd4DlVTB",
        "outputId": "ec6d5564-2c79-47da-b303-23b2b2b59af1",
        "colab": {
          "base_uri": "https://localhost:8080/"
        }
      },
      "execution_count": 6,
      "outputs": [
        {
          "output_type": "execute_result",
          "data": {
            "text/plain": [
              "201466.2"
            ]
          },
          "metadata": {},
          "execution_count": 6
        }
      ]
    },
    {
      "cell_type": "markdown",
      "metadata": {
        "id": "POAj5sBgd3gd"
      },
      "source": [
        "#<u>**Problem 2**</u>\n",
        "\n",
        "### In this problem, we are going to calculate distances between some pairs of points :\n",
        "\n",
        "### <u> Measures of distances </u>\n",
        "* ### Euclidean Distance : The distance between two points $(x_{1},y_{1})$ , $(x_{2},y_{2})$ is defined as :\n",
        "${\\displaystyle d(x,y)={\\sqrt {(x_{1}-x_{2})^{2}+(y_{1}-y_{2})^{2}}}.}$\n",
        "\n",
        "* ### Manhattan Distance : The distance between two points $(x_{1},y_{1})$ , $(x_{2},y_{2})$ is defined as :\n",
        "${\\displaystyle d(x,y)=|x_{1}-x_{2}|+|y_{1}-y_{2}|}$\n"
      ]
    },
    {
      "cell_type": "markdown",
      "metadata": {
        "id": "lw7TLsfd-eXc"
      },
      "source": [
        "### Create a 2-D array of 10 points where the x-coordinates and the y-coordinates can take random integral values between 5 and 20.\n",
        "\n",
        "\n",
        "### Next, create two 1-D arrays(one for  Euclidean distance and the other for  Manhattan distance) for these points\n"
      ]
    },
    {
      "cell_type": "code",
      "metadata": {
        "id": "TOEq4PEP5y8X",
        "outputId": "b5f0f18d-d974-45ce-edf1-e772b905133c",
        "colab": {
          "base_uri": "https://localhost:8080/"
        }
      },
      "source": [
        "# Create the 10 points\n",
        "points=np.random.randint(5,20,size=(10,2))\n",
        "points"
      ],
      "execution_count": 29,
      "outputs": [
        {
          "output_type": "execute_result",
          "data": {
            "text/plain": [
              "array([[ 5, 19],\n",
              "       [ 9, 11],\n",
              "       [ 9, 16],\n",
              "       [ 9, 12],\n",
              "       [17, 13],\n",
              "       [14, 10],\n",
              "       [11, 10],\n",
              "       [ 7, 11],\n",
              "       [ 7, 13],\n",
              "       [17,  7]])"
            ]
          },
          "metadata": {},
          "execution_count": 29
        }
      ]
    },
    {
      "cell_type": "code",
      "metadata": {
        "id": "n86qvsfF6PO2",
        "colab": {
          "base_uri": "https://localhost:8080/"
        },
        "outputId": "915953b6-bb93-4eeb-e047-ec91a3d4128c"
      },
      "source": [
        "# Calculate Euclidean distances between these pairs of points (total 10*10 = 100 pairs including self pairs). This should give you a 10*10 2-D array where each value corresponds to the distance between a pair\n",
        "\n",
        "def eucledian_distance(point1,point2):\n",
        "    \"\"\"Calculates and returns Eucledian Distance\"\"\"\n",
        "    x1,y1=point1\n",
        "    x2,y2=point2\n",
        "    return round(((x2-x1)**2+(y2-y1)**2)**0.5,2)                                # calculating eucledian distance \n",
        "    \n",
        "euclidean_distances=[]\n",
        "for i in range(10):\n",
        "    inner_llist=[]\n",
        "    for j in range(10):\n",
        "        inner_llist.append(eucledian_distance(points[i],points[j]))\n",
        "    euclidean_distances.append(np.asarray(inner_llist))\n",
        "euclidean_distances = np.asarray(euclidean_distances)\n",
        "print(euclidean_distances)"
      ],
      "execution_count": 30,
      "outputs": [
        {
          "output_type": "stream",
          "name": "stdout",
          "text": [
            "[[ 0.    8.94  5.    8.06 13.42 12.73 10.82  8.25  6.32 16.97]\n",
            " [ 8.94  0.    5.    1.    8.25  5.1   2.24  2.    2.83  8.94]\n",
            " [ 5.    5.    0.    4.    8.54  7.81  6.32  5.39  3.61 12.04]\n",
            " [ 8.06  1.    4.    0.    8.06  5.39  2.83  2.24  2.24  9.43]\n",
            " [13.42  8.25  8.54  8.06  0.    4.24  6.71 10.2  10.    6.  ]\n",
            " [12.73  5.1   7.81  5.39  4.24  0.    3.    7.07  7.62  4.24]\n",
            " [10.82  2.24  6.32  2.83  6.71  3.    0.    4.12  5.    6.71]\n",
            " [ 8.25  2.    5.39  2.24 10.2   7.07  4.12  0.    2.   10.77]\n",
            " [ 6.32  2.83  3.61  2.24 10.    7.62  5.    2.    0.   11.66]\n",
            " [16.97  8.94 12.04  9.43  6.    4.24  6.71 10.77 11.66  0.  ]]\n"
          ]
        }
      ]
    },
    {
      "cell_type": "code",
      "metadata": {
        "id": "-FIU9Wp97V3P",
        "colab": {
          "base_uri": "https://localhost:8080/"
        },
        "outputId": "85e8e77a-37c9-45f6-b802-8b8b8b350787"
      },
      "source": [
        "# Calculate Manhattan distances between these pairs of points (total 10*10 = 100 pairs inlcuding self pairs).This should give you a 10*10 2-D array where each value corresponds to the distance between a pair.\n",
        "\n",
        "def manhattan_distance(point1,point2):\n",
        "    \"\"\"Calclates and returns Manhattan Distance\"\"\"\n",
        "    x1,y1=point1\n",
        "    x2,y2=point2\n",
        "    return round((abs(x2-x1)+abs(y2-y1)),2)                                     # The manhattan distance            \n",
        "\n",
        "manhattan_distances=[]\n",
        "for i in range(10):\n",
        "    inner_llist=[]\n",
        "    for j in range(10):\n",
        "        inner_llist.append(manhattan_distance(points[i],points[j]))             \n",
        "    manhattan_distances.append(np.asarray(inner_llist))\n",
        "manhattan_distances=np.asarray(manhattan_distances)\n",
        "print(manhattan_distances)\n"
      ],
      "execution_count": 31,
      "outputs": [
        {
          "output_type": "stream",
          "name": "stdout",
          "text": [
            "[[ 0 12  7 11 18 18 15 10  8 24]\n",
            " [12  0  5  1 10  6  3  2  4 12]\n",
            " [ 7  5  0  4 11 11  8  7  5 17]\n",
            " [11  1  4  0  9  7  4  3  3 13]\n",
            " [18 10 11  9  0  6  9 12 10  6]\n",
            " [18  6 11  7  6  0  3  8 10  6]\n",
            " [15  3  8  4  9  3  0  5  7  9]\n",
            " [10  2  7  3 12  8  5  0  2 14]\n",
            " [ 8  4  5  3 10 10  7  2  0 16]\n",
            " [24 12 17 13  6  6  9 14 16  0]]\n"
          ]
        }
      ]
    },
    {
      "cell_type": "markdown",
      "metadata": {
        "id": "5ZaKtQlZBLoQ"
      },
      "source": [
        "## Find the closest pairs (excluding self pairs) on the basis of both the distance measures"
      ]
    },
    {
      "cell_type": "code",
      "metadata": {
        "id": "AeKJGamV6qnu",
        "colab": {
          "base_uri": "https://localhost:8080/"
        },
        "outputId": "82361cb7-54d2-4529-b5f4-50234ccf33e4"
      },
      "source": [
        "# Your code here\n",
        "\n",
        "\n",
        "nearest_points_manhattan=[]\n",
        "for ind,arr in enumerate(manhattan_distances+np.identity(10)*1000):\n",
        "    nearest_points_manhattan.append((points[ind],points[arr.argmin()]))         # index of the value with min distance is stored and the corrosponding points accesed\n",
        "    \n",
        "print(nearest_points_manhattan)\n",
        "\n",
        "nearest_points_euclidean=[]\n",
        "for ind,arr in enumerate(euclidean_distances+np.identity(10)*1000):\n",
        "    nearest_points_euclidean.append((points[ind],points[arr.argmin()]))         # index of the value with min distance is stored and the corrosponding points accesed\n",
        "\n",
        "print(nearest_points_euclidean)\n",
        "\n"
      ],
      "execution_count": 32,
      "outputs": [
        {
          "output_type": "stream",
          "name": "stdout",
          "text": [
            "[(array([ 5, 19]), array([ 9, 16])), (array([ 9, 11]), array([ 9, 12])), (array([ 9, 16]), array([ 9, 12])), (array([ 9, 12]), array([ 9, 11])), (array([17, 13]), array([14, 10])), (array([14, 10]), array([11, 10])), (array([11, 10]), array([ 9, 11])), (array([ 7, 11]), array([ 9, 11])), (array([ 7, 13]), array([ 7, 11])), (array([17,  7]), array([17, 13]))]\n",
            "[(array([ 5, 19]), array([ 9, 16])), (array([ 9, 11]), array([ 9, 12])), (array([ 9, 16]), array([ 7, 13])), (array([ 9, 12]), array([ 9, 11])), (array([17, 13]), array([14, 10])), (array([14, 10]), array([11, 10])), (array([11, 10]), array([ 9, 11])), (array([ 7, 11]), array([ 9, 11])), (array([ 7, 13]), array([ 7, 11])), (array([17,  7]), array([14, 10]))]\n"
          ]
        }
      ]
    },
    {
      "cell_type": "markdown",
      "metadata": {
        "id": "rnEIpxdzfIhF"
      },
      "source": [
        "# <u>**Problem 3**</u>\n",
        "\n",
        "## Extract all the contiguous 3x3 blocks from a random 10x10 matrix. For example, the first matrix corresponds to [:3,:3], then the second matrix corresponds to [:3,1:4],.... Once you have covered the first three rows, then the next set of matrices would be [1:4,:3],[1:4,1:4],.... and so on and so forth. The last matrix would be [7:10,7:10]"
      ]
    },
    {
      "cell_type": "code",
      "metadata": {
        "id": "NuQh8LLBma-0",
        "colab": {
          "base_uri": "https://localhost:8080/"
        },
        "outputId": "c50eb27a-2085-41a6-8b0d-95d4dedd6c2c"
      },
      "source": [
        "# Your code below ..\n",
        "np.random.seed(21)\n",
        "matrix = np.random.randint(1,9,size=(10,10))\n",
        "matrix\n"
      ],
      "execution_count": 12,
      "outputs": [
        {
          "output_type": "execute_result",
          "data": {
            "text/plain": [
              "array([[2, 8, 1, 5, 1, 1, 1, 4, 5, 3],\n",
              "       [8, 2, 3, 1, 7, 8, 5, 6, 6, 2],\n",
              "       [6, 7, 3, 1, 7, 5, 7, 5, 4, 5],\n",
              "       [8, 5, 1, 2, 6, 7, 6, 3, 7, 3],\n",
              "       [1, 5, 3, 1, 6, 6, 1, 3, 4, 1],\n",
              "       [1, 4, 2, 5, 1, 3, 8, 7, 5, 3],\n",
              "       [5, 2, 1, 6, 1, 6, 6, 4, 2, 7],\n",
              "       [4, 5, 5, 7, 7, 5, 7, 2, 1, 3],\n",
              "       [3, 3, 1, 1, 8, 2, 8, 6, 7, 3],\n",
              "       [2, 8, 2, 1, 3, 3, 8, 7, 1, 2]])"
            ]
          },
          "metadata": {},
          "execution_count": 12
        }
      ]
    },
    {
      "cell_type": "code",
      "source": [
        "matrix[:3,:3]"
      ],
      "metadata": {
        "colab": {
          "base_uri": "https://localhost:8080/"
        },
        "id": "BeA953fcZ76a",
        "outputId": "30724438-3022-4c0f-ff4f-ef57d2178051"
      },
      "execution_count": 13,
      "outputs": [
        {
          "output_type": "execute_result",
          "data": {
            "text/plain": [
              "array([[2, 8, 1],\n",
              "       [8, 2, 3],\n",
              "       [6, 7, 3]])"
            ]
          },
          "metadata": {},
          "execution_count": 13
        }
      ]
    },
    {
      "cell_type": "code",
      "source": [
        "len(matrix)"
      ],
      "metadata": {
        "colab": {
          "base_uri": "https://localhost:8080/"
        },
        "id": "sfHybAWbauET",
        "outputId": "10a02621-6d13-46f3-ff04-c8c87716abc1"
      },
      "execution_count": 14,
      "outputs": [
        {
          "output_type": "execute_result",
          "data": {
            "text/plain": [
              "10"
            ]
          },
          "metadata": {},
          "execution_count": 14
        }
      ]
    },
    {
      "cell_type": "code",
      "source": [
        "for j in range(len(matrix)-2):\n",
        "    for i in range(len(matrix)-2):\n",
        "      print(matrix[j:j+3,i:i+3])"
      ],
      "metadata": {
        "colab": {
          "base_uri": "https://localhost:8080/"
        },
        "id": "o187t_mGZOB5",
        "outputId": "28dc511c-119a-4b5e-cda0-d7caffcd6013"
      },
      "execution_count": 15,
      "outputs": [
        {
          "output_type": "stream",
          "name": "stdout",
          "text": [
            "[[2 8 1]\n",
            " [8 2 3]\n",
            " [6 7 3]]\n",
            "[[8 1 5]\n",
            " [2 3 1]\n",
            " [7 3 1]]\n",
            "[[1 5 1]\n",
            " [3 1 7]\n",
            " [3 1 7]]\n",
            "[[5 1 1]\n",
            " [1 7 8]\n",
            " [1 7 5]]\n",
            "[[1 1 1]\n",
            " [7 8 5]\n",
            " [7 5 7]]\n",
            "[[1 1 4]\n",
            " [8 5 6]\n",
            " [5 7 5]]\n",
            "[[1 4 5]\n",
            " [5 6 6]\n",
            " [7 5 4]]\n",
            "[[4 5 3]\n",
            " [6 6 2]\n",
            " [5 4 5]]\n",
            "[[8 2 3]\n",
            " [6 7 3]\n",
            " [8 5 1]]\n",
            "[[2 3 1]\n",
            " [7 3 1]\n",
            " [5 1 2]]\n",
            "[[3 1 7]\n",
            " [3 1 7]\n",
            " [1 2 6]]\n",
            "[[1 7 8]\n",
            " [1 7 5]\n",
            " [2 6 7]]\n",
            "[[7 8 5]\n",
            " [7 5 7]\n",
            " [6 7 6]]\n",
            "[[8 5 6]\n",
            " [5 7 5]\n",
            " [7 6 3]]\n",
            "[[5 6 6]\n",
            " [7 5 4]\n",
            " [6 3 7]]\n",
            "[[6 6 2]\n",
            " [5 4 5]\n",
            " [3 7 3]]\n",
            "[[6 7 3]\n",
            " [8 5 1]\n",
            " [1 5 3]]\n",
            "[[7 3 1]\n",
            " [5 1 2]\n",
            " [5 3 1]]\n",
            "[[3 1 7]\n",
            " [1 2 6]\n",
            " [3 1 6]]\n",
            "[[1 7 5]\n",
            " [2 6 7]\n",
            " [1 6 6]]\n",
            "[[7 5 7]\n",
            " [6 7 6]\n",
            " [6 6 1]]\n",
            "[[5 7 5]\n",
            " [7 6 3]\n",
            " [6 1 3]]\n",
            "[[7 5 4]\n",
            " [6 3 7]\n",
            " [1 3 4]]\n",
            "[[5 4 5]\n",
            " [3 7 3]\n",
            " [3 4 1]]\n",
            "[[8 5 1]\n",
            " [1 5 3]\n",
            " [1 4 2]]\n",
            "[[5 1 2]\n",
            " [5 3 1]\n",
            " [4 2 5]]\n",
            "[[1 2 6]\n",
            " [3 1 6]\n",
            " [2 5 1]]\n",
            "[[2 6 7]\n",
            " [1 6 6]\n",
            " [5 1 3]]\n",
            "[[6 7 6]\n",
            " [6 6 1]\n",
            " [1 3 8]]\n",
            "[[7 6 3]\n",
            " [6 1 3]\n",
            " [3 8 7]]\n",
            "[[6 3 7]\n",
            " [1 3 4]\n",
            " [8 7 5]]\n",
            "[[3 7 3]\n",
            " [3 4 1]\n",
            " [7 5 3]]\n",
            "[[1 5 3]\n",
            " [1 4 2]\n",
            " [5 2 1]]\n",
            "[[5 3 1]\n",
            " [4 2 5]\n",
            " [2 1 6]]\n",
            "[[3 1 6]\n",
            " [2 5 1]\n",
            " [1 6 1]]\n",
            "[[1 6 6]\n",
            " [5 1 3]\n",
            " [6 1 6]]\n",
            "[[6 6 1]\n",
            " [1 3 8]\n",
            " [1 6 6]]\n",
            "[[6 1 3]\n",
            " [3 8 7]\n",
            " [6 6 4]]\n",
            "[[1 3 4]\n",
            " [8 7 5]\n",
            " [6 4 2]]\n",
            "[[3 4 1]\n",
            " [7 5 3]\n",
            " [4 2 7]]\n",
            "[[1 4 2]\n",
            " [5 2 1]\n",
            " [4 5 5]]\n",
            "[[4 2 5]\n",
            " [2 1 6]\n",
            " [5 5 7]]\n",
            "[[2 5 1]\n",
            " [1 6 1]\n",
            " [5 7 7]]\n",
            "[[5 1 3]\n",
            " [6 1 6]\n",
            " [7 7 5]]\n",
            "[[1 3 8]\n",
            " [1 6 6]\n",
            " [7 5 7]]\n",
            "[[3 8 7]\n",
            " [6 6 4]\n",
            " [5 7 2]]\n",
            "[[8 7 5]\n",
            " [6 4 2]\n",
            " [7 2 1]]\n",
            "[[7 5 3]\n",
            " [4 2 7]\n",
            " [2 1 3]]\n",
            "[[5 2 1]\n",
            " [4 5 5]\n",
            " [3 3 1]]\n",
            "[[2 1 6]\n",
            " [5 5 7]\n",
            " [3 1 1]]\n",
            "[[1 6 1]\n",
            " [5 7 7]\n",
            " [1 1 8]]\n",
            "[[6 1 6]\n",
            " [7 7 5]\n",
            " [1 8 2]]\n",
            "[[1 6 6]\n",
            " [7 5 7]\n",
            " [8 2 8]]\n",
            "[[6 6 4]\n",
            " [5 7 2]\n",
            " [2 8 6]]\n",
            "[[6 4 2]\n",
            " [7 2 1]\n",
            " [8 6 7]]\n",
            "[[4 2 7]\n",
            " [2 1 3]\n",
            " [6 7 3]]\n",
            "[[4 5 5]\n",
            " [3 3 1]\n",
            " [2 8 2]]\n",
            "[[5 5 7]\n",
            " [3 1 1]\n",
            " [8 2 1]]\n",
            "[[5 7 7]\n",
            " [1 1 8]\n",
            " [2 1 3]]\n",
            "[[7 7 5]\n",
            " [1 8 2]\n",
            " [1 3 3]]\n",
            "[[7 5 7]\n",
            " [8 2 8]\n",
            " [3 3 8]]\n",
            "[[5 7 2]\n",
            " [2 8 6]\n",
            " [3 8 7]]\n",
            "[[7 2 1]\n",
            " [8 6 7]\n",
            " [8 7 1]]\n",
            "[[2 1 3]\n",
            " [6 7 3]\n",
            " [7 1 2]]\n"
          ]
        }
      ]
    },
    {
      "cell_type": "markdown",
      "metadata": {
        "id": "UtGDDH9Qq_2M"
      },
      "source": [
        "#<u>**Problem 4**</u>\n",
        "\n",
        "### Write a function which finds the nearest value from a given value in an array of random N elements. Suppose you created an 1-D array with 15 elements taking values between 10 and 500. Your function would take any input from these values and return the nearest value. (You can use np.abs() function)"
      ]
    },
    {
      "cell_type": "code",
      "metadata": {
        "id": "oknMAmKWFNSX",
        "colab": {
          "base_uri": "https://localhost:8080/"
        },
        "outputId": "e348094f-26b3-4eb5-db53-baf1f8cf6b07"
      },
      "source": [
        "# Your function below\n",
        "#Creating a random array\n",
        "array_random = np.random.randint(10,500,15)\n",
        "array_random\n"
      ],
      "execution_count": 16,
      "outputs": [
        {
          "output_type": "execute_result",
          "data": {
            "text/plain": [
              "array([136, 117,  74, 163, 230, 216, 313, 433,  15, 181,  28, 305, 255,\n",
              "       264, 362])"
            ]
          },
          "metadata": {},
          "execution_count": 16
        }
      ]
    },
    {
      "cell_type": "code",
      "source": [
        "#Defining a function for calling nearest number from array\n",
        "def nearest_point(random_array):\n",
        "  element=int(input(\"Enter Your Number:\\n\"))\n",
        "  \n",
        "  #Creating a list for numbers less than input number(element)\n",
        "  lst1=[]\n",
        "  for i in random_array:\n",
        "    if i < element:\n",
        "      lst1.append(i)\n",
        "\n",
        "  #Get nearest number from inputted number in  lst1\n",
        "  if len(lst1)>0:\n",
        "    maxi=max(lst1)\n",
        "\n",
        "  #Creating a list for numbers greater than input number(element)\n",
        "  lst2=[]\n",
        "  for i in random_array:\n",
        "    if i > element:\n",
        "      lst2.append(i)\n",
        "\n",
        "  #Get nearest number from inputted number in  lst2    \n",
        "  if len(lst2)>0:\n",
        "    mini=min(lst2)\n",
        "\n",
        "  #Checking all the conditionals to get the nearest number\n",
        "  if len(lst1)==0:\n",
        "    print(f\"The nearest point of {element} is {mini}\")\n",
        "\n",
        "  elif len(lst2)==0:\n",
        "    print(f\"The nearest point of {element} is {maxi}\")\n",
        "\n",
        "  elif (element-maxi) == (mini-element):\n",
        "    print((f\"The nearest point of {element} are {maxi} and {mini}\"))\n",
        "\n",
        "  elif (element-maxi) < (mini-element):\n",
        "    print(f\"The nearest point of {element} is {maxi}\")\n",
        "    \n",
        "  elif(element-maxi) > (mini-element):\n",
        "    print(f\"The nearest point of  {element} is {mini}\")"
      ],
      "metadata": {
        "id": "BdPDu4CgdpfO"
      },
      "execution_count": 17,
      "outputs": []
    },
    {
      "cell_type": "code",
      "source": [
        "#Sample Inputs\n",
        "nearest_point(array_random)"
      ],
      "metadata": {
        "colab": {
          "base_uri": "https://localhost:8080/"
        },
        "id": "GqoGMUJlvY4W",
        "outputId": "d5e59967-d8b8-47b4-b447-71143f8ee5e5"
      },
      "execution_count": 18,
      "outputs": [
        {
          "output_type": "stream",
          "name": "stdout",
          "text": [
            "Enter Your Number:\n",
            "300\n",
            "The nearest point of  300 is 305\n"
          ]
        }
      ]
    },
    {
      "cell_type": "markdown",
      "source": [
        "Alternate Solution"
      ],
      "metadata": {
        "id": "wxSZ1GlBEL-z"
      }
    },
    {
      "cell_type": "code",
      "source": [
        "def get_nearest_value(elem,array):\n",
        "    \"\"\"Return the nearest value in the given array for given input\"\"\"\n",
        "    nearest_value = array.flat[np.abs(array - elem).argmin()]                   # flatern and then findind the value with min difrence for given input\n",
        "    return nearest_value\n",
        "array=np.random.randint(10,500, size=(1, 15))\n",
        "print(array)"
      ],
      "metadata": {
        "id": "DmFM3v4HzR7M",
        "colab": {
          "base_uri": "https://localhost:8080/"
        },
        "outputId": "c1d49bc6-2087-4f66-a637-d5ff10b78c59"
      },
      "execution_count": 20,
      "outputs": [
        {
          "output_type": "stream",
          "name": "stdout",
          "text": [
            "[[142 172  60 362 323 379 154 237  11 317  11  37 171 256  42]]\n"
          ]
        }
      ]
    },
    {
      "cell_type": "code",
      "source": [
        "ele=int(input(\"Enter the element for which you want to find the nearest value for \"))\n",
        "print(f\"Nearest point to {ele} is {get_nearest_value(ele,array)}\")"
      ],
      "metadata": {
        "colab": {
          "base_uri": "https://localhost:8080/"
        },
        "id": "WWoKKw6EEjYz",
        "outputId": "42c87726-1338-4c02-c200-899a30f9e5a4"
      },
      "execution_count": 21,
      "outputs": [
        {
          "output_type": "stream",
          "name": "stdout",
          "text": [
            "Enter the element for which you want to find the nearest value for 500\n",
            "Nearest point to 500 is 379\n"
          ]
        }
      ]
    }
  ]
}